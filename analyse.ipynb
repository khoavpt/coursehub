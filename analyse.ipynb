{
 "cells": [
  {
   "cell_type": "code",
   "execution_count": 1,
   "metadata": {},
   "outputs": [],
   "source": [
    "import pandas as pd"
   ]
  },
  {
   "cell_type": "code",
   "execution_count": 4,
   "metadata": {},
   "outputs": [],
   "source": [
    "# Read the CSV file\n",
    "df = pd.read_csv('Course_info.csv')\n",
    "# Fill NaN values with the data from the previous row\n",
    "df.fillna(method='ffill', inplace=True)"
   ]
  },
  {
   "cell_type": "code",
   "execution_count": 7,
   "metadata": {},
   "outputs": [],
   "source": [
    "df2 = pd.read_csv('Coursera_courses_sampled.csv')\n",
    "prices = df2['price'].tolist()"
   ]
  },
  {
   "cell_type": "code",
   "execution_count": 12,
   "metadata": {},
   "outputs": [],
   "source": [
    "df.to_csv('Coursera_courses_sampled.csv', index=False)"
   ]
  },
  {
   "cell_type": "code",
   "execution_count": 18,
   "metadata": {},
   "outputs": [
    {
     "ename": "AttributeError",
     "evalue": "'DataFrame' object has no attribute 'append'",
     "output_type": "error",
     "traceback": [
      "\u001b[1;31m---------------------------------------------------------------------------\u001b[0m",
      "\u001b[1;31mAttributeError\u001b[0m                            Traceback (most recent call last)",
      "Cell \u001b[1;32mIn[18], line 7\u001b[0m\n\u001b[0;32m      5\u001b[0m     course_id \u001b[38;5;241m=\u001b[39m row[\u001b[38;5;124m'\u001b[39m\u001b[38;5;124mcourse_id\u001b[39m\u001b[38;5;124m'\u001b[39m]\n\u001b[0;32m      6\u001b[0m     row_df \u001b[38;5;241m=\u001b[39m df\u001b[38;5;241m.\u001b[39mloc[df[\u001b[38;5;124m'\u001b[39m\u001b[38;5;124mcourse_id\u001b[39m\u001b[38;5;124m'\u001b[39m] \u001b[38;5;241m==\u001b[39m course_id]\n\u001b[1;32m----> 7\u001b[0m     ordered_df \u001b[38;5;241m=\u001b[39m \u001b[43mordered_df\u001b[49m\u001b[38;5;241;43m.\u001b[39;49m\u001b[43mappend\u001b[49m(row_df, ignore_index\u001b[38;5;241m=\u001b[39m\u001b[38;5;28;01mTrue\u001b[39;00m)\n\u001b[0;32m      9\u001b[0m \u001b[38;5;66;03m# Verify the result\u001b[39;00m\n\u001b[0;32m     10\u001b[0m \u001b[38;5;28mprint\u001b[39m(ordered_df)\n",
      "File \u001b[1;32mc:\\Users\\LENOVO\\AppData\\Local\\Programs\\Python\\Python310\\lib\\site-packages\\pandas\\core\\generic.py:5989\u001b[0m, in \u001b[0;36mNDFrame.__getattr__\u001b[1;34m(self, name)\u001b[0m\n\u001b[0;32m   5982\u001b[0m \u001b[38;5;28;01mif\u001b[39;00m (\n\u001b[0;32m   5983\u001b[0m     name \u001b[38;5;129;01mnot\u001b[39;00m \u001b[38;5;129;01min\u001b[39;00m \u001b[38;5;28mself\u001b[39m\u001b[38;5;241m.\u001b[39m_internal_names_set\n\u001b[0;32m   5984\u001b[0m     \u001b[38;5;129;01mand\u001b[39;00m name \u001b[38;5;129;01mnot\u001b[39;00m \u001b[38;5;129;01min\u001b[39;00m \u001b[38;5;28mself\u001b[39m\u001b[38;5;241m.\u001b[39m_metadata\n\u001b[0;32m   5985\u001b[0m     \u001b[38;5;129;01mand\u001b[39;00m name \u001b[38;5;129;01mnot\u001b[39;00m \u001b[38;5;129;01min\u001b[39;00m \u001b[38;5;28mself\u001b[39m\u001b[38;5;241m.\u001b[39m_accessors\n\u001b[0;32m   5986\u001b[0m     \u001b[38;5;129;01mand\u001b[39;00m \u001b[38;5;28mself\u001b[39m\u001b[38;5;241m.\u001b[39m_info_axis\u001b[38;5;241m.\u001b[39m_can_hold_identifiers_and_holds_name(name)\n\u001b[0;32m   5987\u001b[0m ):\n\u001b[0;32m   5988\u001b[0m     \u001b[38;5;28;01mreturn\u001b[39;00m \u001b[38;5;28mself\u001b[39m[name]\n\u001b[1;32m-> 5989\u001b[0m \u001b[38;5;28;01mreturn\u001b[39;00m \u001b[38;5;28;43mobject\u001b[39;49m\u001b[38;5;241;43m.\u001b[39;49m\u001b[38;5;21;43m__getattribute__\u001b[39;49m\u001b[43m(\u001b[49m\u001b[38;5;28;43mself\u001b[39;49m\u001b[43m,\u001b[49m\u001b[43m \u001b[49m\u001b[43mname\u001b[49m\u001b[43m)\u001b[49m\n",
      "\u001b[1;31mAttributeError\u001b[0m: 'DataFrame' object has no attribute 'append'"
     ]
    }
   ],
   "source": [
    "ordered_df = pd.DataFrame(columns=df.columns)\n",
    "\n",
    "# Iterate through df2 and append the corresponding rows from df to ordered_df\n",
    "for id, row in df2.iterrows():\n",
    "    course_id = row['course_id']\n",
    "    row_df = df.loc[df['course_id'] == course_id]\n",
    "    ordered_df = ordered_df.append(row_df, ignore_index=True)\n",
    "\n",
    "# Verify the result\n",
    "print(ordered_df)"
   ]
  },
  {
   "cell_type": "code",
   "execution_count": 19,
   "metadata": {},
   "outputs": [
    {
     "name": "stdout",
     "output_type": "stream",
     "text": [
      "                         course_id   \n",
      "0                 machine-learning  \\\n",
      "1                indigenous-canada   \n",
      "2        the-science-of-well-being   \n",
      "3   technical-support-fundamentals   \n",
      "4         financial-markets-global   \n",
      "..                             ...   \n",
      "95                        introcss   \n",
      "96           big-data-introduction   \n",
      "97                game-development   \n",
      "98  covid-19-what-you-need-to-know   \n",
      "99                  ml-foundations   \n",
      "\n",
      "                                               name_x   \n",
      "0                                    Machine Learning  \\\n",
      "1                                   Indigenous Canada   \n",
      "2                           The Science of Well-Being   \n",
      "3                      Technical Support Fundamentals   \n",
      "4                                   Financial Markets   \n",
      "..                                                ...   \n",
      "95                               Introduction to CSS3   \n",
      "96                           Introduction to Big Data   \n",
      "97                   Introduction to Game Development   \n",
      "98     COVID-19: What You Need to Know (CME Eligible)   \n",
      "99  Machine Learning Foundations: A Case Study App...   \n",
      "\n",
      "                         institution_x   \n",
      "0                  Stanford University  \\\n",
      "1                University of Alberta   \n",
      "2                      Yale University   \n",
      "3                               Google   \n",
      "4                      Yale University   \n",
      "..                                 ...   \n",
      "95              University of Michigan   \n",
      "96  University of California San Diego   \n",
      "97           Michigan State University   \n",
      "98                             Osmosis   \n",
      "99            University of Washington   \n",
      "\n",
      "                                         course_url_x   price   \n",
      "0     https://www.coursera.org/learn/machine-learning   84.99  \\\n",
      "1    https://www.coursera.org/learn/indigenous-canada   67.99   \n",
      "2   https://www.coursera.org/learn/the-science-of-...  136.99   \n",
      "3   https://www.coursera.org/learn/technical-suppo...   90.99   \n",
      "4   https://www.coursera.org/learn/financial-marke...  125.99   \n",
      "..                                                ...     ...   \n",
      "95            https://www.coursera.org/learn/introcss   62.99   \n",
      "96  https://www.coursera.org/learn/big-data-introd...   56.99   \n",
      "97    https://www.coursera.org/learn/game-development  137.99   \n",
      "98  https://www.coursera.org/learn/covid-19-what-y...  100.99   \n",
      "99      https://www.coursera.org/learn/ml-foundations   76.99   \n",
      "\n",
      "                                               name_y   \n",
      "0                                    Machine Learning  \\\n",
      "1                                   Indigenous Canada   \n",
      "2                           The Science of Well-Being   \n",
      "3                      Technical Support Fundamentals   \n",
      "4                                   Financial Markets   \n",
      "..                                                ...   \n",
      "95                               Introduction to CSS3   \n",
      "96                           Introduction to Big Data   \n",
      "97                   Introduction to Game Development   \n",
      "98     COVID-19: What You Need to Know (CME Eligible)   \n",
      "99  Machine Learning Foundations: A Case Study App...   \n",
      "\n",
      "                         institution_y   \n",
      "0                  Stanford University  \\\n",
      "1                University of Alberta   \n",
      "2                      Yale University   \n",
      "3                               Google   \n",
      "4                      Yale University   \n",
      "..                                 ...   \n",
      "95              University of Michigan   \n",
      "96  University of California San Diego   \n",
      "97           Michigan State University   \n",
      "98                             Osmosis   \n",
      "99            University of Washington   \n",
      "\n",
      "                                         course_url_y   \n",
      "0     https://www.coursera.org/learn/machine-learning  \\\n",
      "1    https://www.coursera.org/learn/indigenous-canada   \n",
      "2   https://www.coursera.org/learn/the-science-of-...   \n",
      "3   https://www.coursera.org/learn/technical-suppo...   \n",
      "4   https://www.coursera.org/learn/financial-marke...   \n",
      "..                                                ...   \n",
      "95            https://www.coursera.org/learn/introcss   \n",
      "96  https://www.coursera.org/learn/big-data-introd...   \n",
      "97    https://www.coursera.org/learn/game-development   \n",
      "98  https://www.coursera.org/learn/covid-19-what-y...   \n",
      "99      https://www.coursera.org/learn/ml-foundations   \n",
      "\n",
      "                                            image_url   \n",
      "0   https://d3njjcbhbojbot.cloudfront.net/api/util...  \\\n",
      "1   https://d3njjcbhbojbot.cloudfront.net/api/util...   \n",
      "2   https://d3njjcbhbojbot.cloudfront.net/api/util...   \n",
      "3   https://d3njjcbhbojbot.cloudfront.net/api/util...   \n",
      "4   https://d3njjcbhbojbot.cloudfront.net/api/util...   \n",
      "..                                                ...   \n",
      "95  https://d3njjcbhbojbot.cloudfront.net/api/util...   \n",
      "96  https://d3njjcbhbojbot.cloudfront.net/api/util...   \n",
      "97  https://d3njjcbhbojbot.cloudfront.net/api/util...   \n",
      "98  https://d3njjcbhbojbot.cloudfront.net/api/util...   \n",
      "99  https://d3njjcbhbojbot.cloudfront.net/api/util...   \n",
      "\n",
      "                                             Lecturer               Level   \n",
      "0        ['Aarti Bagul', 'Andrew Ng', 'Geoff Ladwig']      Beginner level  \\\n",
      "1                              ['Dr. Paul L. Gareau']  Intermediate level   \n",
      "2                                   ['Laurie Santos']  Intermediate level   \n",
      "3                      ['Google Career Certificates']      Beginner level   \n",
      "4                                  ['Robert Shiller']      Beginner level   \n",
      "..                                                ...                 ...   \n",
      "95  ['Charles Russell Severance', 'Colleen van Len...      Beginner level   \n",
      "96               ['Amarnath Gupta', 'Ilkay Altintas']  Intermediate level   \n",
      "97                                     ['Brian Winn']      Beginner level   \n",
      "98                           ['Rishi Desai, MD, MPH']      Beginner level   \n",
      "99                   ['Carlos Guestrin', 'Emily Fox']  Intermediate level   \n",
      "\n",
      "                     Study time   \n",
      "0              Approx. 33 hours  \\\n",
      "1          21 hours to complete   \n",
      "2          19 hours to complete   \n",
      "3              Approx. 26 hours   \n",
      "4          33 hours to complete   \n",
      "..                          ...   \n",
      "95             Approx. 16 hours   \n",
      "96     17 hours (approximately)   \n",
      "97  2 months at 10 hours a week   \n",
      "98              Approx. 3 hours   \n",
      "99     18 hours (approximately)   \n",
      "\n",
      "                                          Description  \n",
      "0   What you'll learn\\nBuild machine learning mode...  \n",
      "1   Skills you'll gain\\nArt\\nHistory\\nIndigenous S...  \n",
      "2   Skills you'll gain\\nGratitude\\nHappiness\\nMedi...  \n",
      "3   Skills you'll gain\\nBinary Code\\nCustomer Supp...  \n",
      "4   Skills you'll gain\\nBehavioral Finance\\nFinanc...  \n",
      "..                                                ...  \n",
      "95  What you'll learn\\nUnderstand the importance o...  \n",
      "96  Skills you'll gain\\nBig Data\\nApache Hadoop\\nM...  \n",
      "97  What you'll learn\\nThe ability to design and d...  \n",
      "98  What you'll learn\\nRecognize the symptoms, dia...  \n",
      "99  Skills you'll gain\\nPython Programming\\nMachin...  \n",
      "\n",
      "[100 rows x 13 columns]\n"
     ]
    }
   ],
   "source": [
    "# Set the index of df2 to 'course_id' to preserve the order\n",
    "df2_ordered = df2.set_index('course_id')\n",
    "\n",
    "# Merge df2 with df based on 'course_id' to get the data from df in the order of df2\n",
    "merged_df = df2_ordered.merge(df, on='course_id', how='left')\n",
    "\n",
    "# Reset the index to get back to the default integer index\n",
    "merged_df.reset_index(drop=True, inplace=True)\n",
    "\n",
    "# Verify the result\n",
    "print(merged_df)"
   ]
  },
  {
   "cell_type": "code",
   "execution_count": 13,
   "metadata": {},
   "outputs": [
    {
     "name": "stdout",
     "output_type": "stream",
     "text": [
      "<class 'pandas.core.frame.DataFrame'>\n",
      "RangeIndex: 100 entries, 0 to 99\n",
      "Data columns (total 10 columns):\n",
      " #   Column       Non-Null Count  Dtype  \n",
      "---  ------       --------------  -----  \n",
      " 0   name         100 non-null    object \n",
      " 1   institution  100 non-null    object \n",
      " 2   course_url   100 non-null    object \n",
      " 3   course_id    100 non-null    object \n",
      " 4   image_url    100 non-null    object \n",
      " 5   Lecturer     100 non-null    object \n",
      " 6   Level        100 non-null    object \n",
      " 7   Study time   100 non-null    object \n",
      " 8   Description  100 non-null    object \n",
      " 9   price        100 non-null    float64\n",
      "dtypes: float64(1), object(9)\n",
      "memory usage: 7.9+ KB\n"
     ]
    }
   ],
   "source": [
    "df.info()"
   ]
  },
  {
   "cell_type": "code",
   "execution_count": 14,
   "metadata": {},
   "outputs": [
    {
     "data": {
      "text/plain": [
       "0          ['Aarti Bagul', 'Andrew Ng', 'Geoff Ladwig']\n",
       "1                                ['Dr. Paul L. Gareau']\n",
       "2                                     ['Laurie Santos']\n",
       "3                        ['Google Career Certificates']\n",
       "4                                    ['Robert Shiller']\n",
       "                            ...                        \n",
       "95    ['Charles Russell Severance', 'Colleen van Len...\n",
       "96                 ['Amarnath Gupta', 'Ilkay Altintas']\n",
       "97                                       ['Brian Winn']\n",
       "98                             ['Rishi Desai, MD, MPH']\n",
       "99                     ['Carlos Guestrin', 'Emily Fox']\n",
       "Name: Lecturer, Length: 100, dtype: object"
      ]
     },
     "execution_count": 14,
     "metadata": {},
     "output_type": "execute_result"
    }
   ],
   "source": [
    "df['Lecturer']"
   ]
  },
  {
   "cell_type": "code",
   "execution_count": null,
   "metadata": {},
   "outputs": [],
   "source": []
  }
 ],
 "metadata": {
  "kernelspec": {
   "display_name": "Python 3",
   "language": "python",
   "name": "python3"
  },
  "language_info": {
   "codemirror_mode": {
    "name": "ipython",
    "version": 3
   },
   "file_extension": ".py",
   "mimetype": "text/x-python",
   "name": "python",
   "nbconvert_exporter": "python",
   "pygments_lexer": "ipython3",
   "version": "3.10.6"
  }
 },
 "nbformat": 4,
 "nbformat_minor": 2
}
